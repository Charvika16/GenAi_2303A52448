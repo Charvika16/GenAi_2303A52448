{
  "nbformat": 4,
  "nbformat_minor": 0,
  "metadata": {
    "colab": {
      "provenance": [],
      "include_colab_link": true
    },
    "kernelspec": {
      "name": "python3",
      "display_name": "Python 3"
    },
    "language_info": {
      "name": "python"
    }
  },
  "cells": [
    {
      "cell_type": "markdown",
      "metadata": {
        "id": "view-in-github",
        "colab_type": "text"
      },
      "source": [
        "<a href=\"https://colab.research.google.com/github/Charvika16/GenAi_2303A52448/blob/main/2303A52448_GenAI_A4.ipynb\" target=\"_parent\"><img src=\"https://colab.research.google.com/assets/colab-badge.svg\" alt=\"Open In Colab\"/></a>"
      ]
    },
    {
      "cell_type": "code",
      "execution_count": 1,
      "metadata": {
        "colab": {
          "base_uri": "https://localhost:8080/"
        },
        "id": "YZ24xDUVRret",
        "outputId": "489a1a9c-44e6-4001-d89b-0df7e76dd012"
      },
      "outputs": [
        {
          "output_type": "stream",
          "name": "stdout",
          "text": [
            "Trained Weights: [0.47850252 0.07677757 0.37241533]\n",
            "Trained Bias: [-0.09556159]\n"
          ]
        }
      ],
      "source": [
        "import numpy as np\n",
        "X_train = np.array([[0.1, 0.2, 0.3],\n",
        "                   [0.2, 0.3, 0.4],\n",
        "                   [0.3, 0.4, 0.5],\n",
        "                   [0.5, 0.6, 0.7],\n",
        "                   [0.1, 0.3, 0.5],\n",
        "                   [0.2, 0.4, 0.6],\n",
        "                   [0.3, 0.5, 0.7],\n",
        "                   [0.4, 0.6, 0.8],\n",
        "                   [0.5, 0.7, 0.1]])\n",
        "y_train = np.array([0.14, 0.20, 0.26, 0.38, 0.22, 0.28, 0.34, 0.40, 0.22])\n",
        "W = np.random.rand(3)\n",
        "b = np.random.rand(1)\n",
        "learning_rate = 0.01\n",
        "epochs = 1000\n",
        "for epoch in range(epochs):\n",
        "    y_pred = np.dot(X_train, W) + b\n",
        "    error = y_train - y_pred\n",
        "    dW = -2 * np.dot(X_train.T, error) / len(X_train)\n",
        "    db = -2 * np.sum(error) / len(X_train)\n",
        "    W = W - learning_rate * dW\n",
        "    b = b - learning_rate * db\n",
        "print(\"Trained Weights:\", W)\n",
        "print(\"Trained Bias:\", b)"
      ]
    },
    {
      "cell_type": "code",
      "source": [
        "X_test = np.array([[0.6, 0.7, 0.8],\n",
        "                  [0.7, 0.8, 0.9]])\n",
        "y_test = np.array([0.44, 0.50])\n",
        "y_train_pred = np.dot(X_train, W) + b\n",
        "y_test_pred = np.dot(X_test, W) + b\n",
        "mse_train = np.mean((y_train - y_train_pred)**2)\n",
        "mse_test = np.mean((y_test - y_test_pred)**2)\n",
        "print(\"Mean Squared Error (Training):\", mse_train)\n",
        "print(\"Mean Squared Error (Test):\", mse_test)"
      ],
      "metadata": {
        "colab": {
          "base_uri": "https://localhost:8080/"
        },
        "id": "BkVljRcbSA2N",
        "outputId": "f7857574-09fd-4ea9-c265-498999270c7b"
      },
      "execution_count": 2,
      "outputs": [
        {
          "output_type": "stream",
          "name": "stdout",
          "text": [
            "Mean Squared Error (Training): 0.0017078912033293505\n",
            "Mean Squared Error (Test): 0.014572920727429174\n"
          ]
        }
      ]
    },
    {
      "cell_type": "code",
      "source": [
        "x1 = float(input(\"Enter x1: \"))\n",
        "x2 = float(input(\"Enter x2: \"))\n",
        "x3 = float(input(\"Enter x3: \"))\n",
        "input_data = np.array([x1, x2, x3])\n",
        "predicted_output = np.dot(input_data, W) + b\n",
        "print(\"Predicted Output:\", predicted_output)"
      ],
      "metadata": {
        "colab": {
          "base_uri": "https://localhost:8080/"
        },
        "id": "K9S7QaUGSGbA",
        "outputId": "b8244b84-27ed-4302-cb82-66936bfb4049"
      },
      "execution_count": 3,
      "outputs": [
        {
          "output_type": "stream",
          "name": "stdout",
          "text": [
            "Enter x1: 2\n",
            "Enter x2: 3\n",
            "Enter x3: 4\n",
            "Predicted Output: [2.58143748]\n"
          ]
        }
      ]
    },
    {
      "cell_type": "code",
      "source": [
        "X_train = np.array([[0.1, 0.2, 0.3],\n",
        "                   [0.2, 0.3, 0.4],\n",
        "                   [0.3, 0.4, 0.5],\n",
        "                   [0.5, 0.6, 0.7],\n",
        "                   [0.1, 0.3, 0.5],\n",
        "                   [0.2, 0.4, 0.6],\n",
        "                   [0.3, 0.5, 0.7],\n",
        "                   [0.4, 0.6, 0.8],\n",
        "                   [0.5, 0.7, 0.1]])\n",
        "y_train = np.array([0.5349, 0.5498, 0.5646, 0.5939, 0.5548, 0.5695, 0.5842, 0.5987, 0.5548])\n",
        "W = np.random.rand(3)\n",
        "b = np.random.rand(1)\n",
        "learning_rate = 0.01\n",
        "epochs = 1000\n",
        "def sigmoid(x):\n",
        "    return 1 / (1 + np.exp(-x))\n",
        "for epoch in range(epochs):\n",
        "    z = np.dot(X_train, W) + b\n",
        "    y_pred = sigmoid(z)\n",
        "    error = y_train - y_pred\n",
        "    d_sigmoid = y_pred * (1 - y_pred)\n",
        "    dW = -2 * np.dot(X_train.T, error * d_sigmoid) / len(X_train)\n",
        "    db = -2 * np.sum(error * d_sigmoid) / len(X_train)\n",
        "    W = W - learning_rate * dW\n",
        "    b = b - learning_rate * db\n",
        "print(\"Trained Weights:\", W)\n",
        "print(\"Trained Bias:\", b)"
      ],
      "metadata": {
        "colab": {
          "base_uri": "https://localhost:8080/"
        },
        "id": "8nyQW1haTqTp",
        "outputId": "34ef86cb-30aa-4ad3-eb26-57fa42bf2d51"
      },
      "execution_count": 4,
      "outputs": [
        {
          "output_type": "stream",
          "name": "stdout",
          "text": [
            "Trained Weights: [0.00703702 0.15286058 0.20983697]\n",
            "Trained Bias: [0.0979159]\n"
          ]
        }
      ]
    },
    {
      "cell_type": "code",
      "source": [
        "X_test = np.array([[0.6, 0.7, 0.8],\n",
        "                  [0.7, 0.8, 0.9]])\n",
        "y_test = np.array([0.6083, 0.6225])\n",
        "y_train_pred = sigmoid(np.dot(X_train, W) + b)\n",
        "y_test_pred = sigmoid(np.dot(X_test, W) + b)\n",
        "mse_train = np.mean((y_train - y_train_pred)**2)\n",
        "mse_test = np.mean((y_test - y_test_pred)**2)\n",
        "print(\"Mean Squared Error (Training):\", mse_train)\n",
        "print(\"Mean Squared Error (Test):\", mse_test)"
      ],
      "metadata": {
        "colab": {
          "base_uri": "https://localhost:8080/"
        },
        "id": "BDRiBelQTvlm",
        "outputId": "ca720eb9-2c26-4475-fb5f-47d46f6e454a"
      },
      "execution_count": 5,
      "outputs": [
        {
          "output_type": "stream",
          "name": "stdout",
          "text": [
            "Mean Squared Error (Training): 5.398712899589667e-05\n",
            "Mean Squared Error (Test): 0.0003239855379400515\n"
          ]
        }
      ]
    },
    {
      "cell_type": "code",
      "source": [
        "x1 = float(input(\"Enter x1: \"))\n",
        "x2 = float(input(\"Enter x2: \"))\n",
        "x3 = float(input(\"Enter x3: \"))\n",
        "input_data = np.array([x1, x2, x3])\n",
        "predicted_output = sigmoid(np.dot(input_data, W) + b)\n",
        "print(\"Predicted Output:\", predicted_output)"
      ],
      "metadata": {
        "colab": {
          "base_uri": "https://localhost:8080/"
        },
        "id": "gsIBOBlVT0eE",
        "outputId": "47064e49-b341-43ee-e182-e9fae3ded1b7"
      },
      "execution_count": 6,
      "outputs": [
        {
          "output_type": "stream",
          "name": "stdout",
          "text": [
            "Enter x1: 0.1\n",
            "Enter x2: 0.2\n",
            "Enter x3: 0.3\n",
            "Predicted Output: [0.54788846]\n"
          ]
        }
      ]
    }
  ]
}