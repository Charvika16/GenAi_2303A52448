{
  "nbformat": 4,
  "nbformat_minor": 0,
  "metadata": {
    "colab": {
      "provenance": [],
      "include_colab_link": true
    },
    "kernelspec": {
      "name": "python3",
      "display_name": "Python 3"
    },
    "language_info": {
      "name": "python"
    }
  },
  "cells": [
    {
      "cell_type": "markdown",
      "metadata": {
        "id": "view-in-github",
        "colab_type": "text"
      },
      "source": [
        "<a href=\"https://colab.research.google.com/github/Charvika16/GenAi_2303A52448/blob/main/2303A52448_GenAi_A3.ipynb\" target=\"_parent\"><img src=\"https://colab.research.google.com/assets/colab-badge.svg\" alt=\"Open In Colab\"/></a>"
      ]
    },
    {
      "cell_type": "markdown",
      "source": [
        " Question 1-- Write Python code without using any libraries to find the value of x at which the\n",
        " function f(x) shown in equation (1) has minimum value. Consider Gradient Descent Algorithm.\n",
        " f(x) = 5x^4 +3x^2 +10"
      ],
      "metadata": {
        "id": "byxD5H9CSJdV"
      }
    },
    {
      "cell_type": "code",
      "execution_count": null,
      "metadata": {
        "id": "8CTcdenKRts0"
      },
      "outputs": [],
      "source": [
        "import sympy as sp\n",
        "x=sp.symbols('x')\n",
        "f = 5*x**4 + 3*x**2 + 10"
      ]
    },
    {
      "cell_type": "code",
      "source": [
        "def gradient_descent(f_str, initial_x, learning_rate, num_iterations):\n",
        "    x = sp.symbols('x')\n",
        "    f_expr = sp.sympify(f_str)\n",
        "    gradient_fn = sp.diff(f_expr, x)\n",
        "    xi = initial_x\n",
        "    for i in range(num_iterations):\n",
        "        gradient = gradient_fn.subs(x, xi)\n",
        "        xi = xi - learning_rate * gradient\n",
        "        if abs(gradient) < 1e-6:\n",
        "            print(f\"Converged at iteration {i+1}\")\n",
        "            break\n",
        "    return xi.evalf(), f_expr.subs(x, xi).evalf()"
      ],
      "metadata": {
        "id": "oYoxyQCwb85b"
      },
      "execution_count": null,
      "outputs": []
    },
    {
      "cell_type": "code",
      "source": [
        "# f = 5*x**4 + 3*x**2 + 10\n",
        "f_str = input(\"Enter the equation: \")\n",
        "initial_x= int(input(\"Enter the initial value of x: \"))\n",
        "learning_rate= float(input(\"Enter the learning rate: \"))\n",
        "num_iterations= int(input(\"Enter the number of iterations: \"))\n",
        "x,min=gradient_descent(f_str,initial_x, learning_rate, num_iterations)\n",
        "\n",
        "print(f\"The function f(x) = {f_str} achieves its minimum value at x = {x}.\")\n",
        "print(f\"At this point, the minimum value of the function is {min}.\")\n"
      ],
      "metadata": {
        "colab": {
          "base_uri": "https://localhost:8080/"
        },
        "id": "F-8SR7hob_py",
        "outputId": "173d51db-e4dd-4137-c238-9ba1593db5d4"
      },
      "execution_count": null,
      "outputs": [
        {
          "output_type": "stream",
          "name": "stdout",
          "text": [
            "Enter the equation: 5*x**4 + 3*x**2 + 10\n",
            "Enter the initial value of x: 2\n",
            "Enter the learning rate: 0.01\n",
            "Enter the number of iterations: 150\n",
            "The function f(x) = 5*x**4 + 3*x**2 + 10 achieves its minimum value at x = 0.0000244276389904536.\n",
            "At this point, the minimum value of the function is 10.0000000017901.\n"
          ]
        }
      ]
    },
    {
      "cell_type": "code",
      "source": [
        "derivative = sp.diff(f,x)\n",
        "print(\"Differentiate of Function\")\n",
        "derivative"
      ],
      "metadata": {
        "colab": {
          "base_uri": "https://localhost:8080/",
          "height": 56
        },
        "id": "RXjLfiCRcrI4",
        "outputId": "7b3a9c5a-3411-4333-edbc-e95c0b96c7c4"
      },
      "execution_count": null,
      "outputs": [
        {
          "output_type": "stream",
          "name": "stdout",
          "text": [
            "Differentiate of Function\n"
          ]
        },
        {
          "output_type": "execute_result",
          "data": {
            "text/plain": [
              "20*x**3 + 6*x"
            ],
            "text/latex": "$\\displaystyle 20 x^{3} + 6 x$"
          },
          "metadata": {},
          "execution_count": 40
        }
      ]
    },
    {
      "cell_type": "markdown",
      "source": [
        "# Question 2"
      ],
      "metadata": {
        "id": "zLBDSDE8Nv-d"
      }
    },
    {
      "cell_type": "markdown",
      "source": [
        "Write Python code without using any libraries to find the value of x and y at which the function g(x,y) shown in equation (2) has minimum value. Consider Gradient Descent Algorithm.\n",
        "\n",
        "f(x) = 3x^2 +5e^−y +10"
      ],
      "metadata": {
        "id": "ny7TwZKnNzYH"
      }
    },
    {
      "cell_type": "code",
      "source": [
        "def gradient_descent_2d(f_str, initial_x, initial_y, learning_rate, num_iterations):\n",
        "\n",
        "    x, y = sp.symbols('x y')\n",
        "    f_expr = sp.sympify(f_str)\n",
        "    gradient_x = sp.diff(f_expr, x)\n",
        "    gradient_y = sp.diff(f_expr, y)\n",
        "    xi, yi = initial_x, initial_y\n",
        "    for i in range(num_iterations):\n",
        "        grad_x = gradient_x.subs({x: xi, y: yi})\n",
        "        grad_y = gradient_y.subs({x: xi, y: yi})\n",
        "        xi = xi - learning_rate * grad_x\n",
        "        yi = yi - learning_rate * grad_y\n",
        "        if abs(grad_x) < 1e-6 and abs(grad_y) < 1e-6:\n",
        "            print(f\"Converged at iteration {i+1}\")\n",
        "            break\n",
        "    return xi.evalf(), yi.evalf(), f_expr.subs({x: xi, y: yi}).evalf()"
      ],
      "metadata": {
        "id": "9boUoP87Nw96"
      },
      "execution_count": null,
      "outputs": []
    },
    {
      "cell_type": "code",
      "source": [
        "f_str = \"3*x**2 + 5*exp(-y) + 10\"\n",
        "initial_x = float(input(\"Enter the initial value of x : \"))\n",
        "initial_y = float(input(\"Enter the initial value of y : \"))\n",
        "learning_rate = float(input(\"Enter the learning rate : \"))\n",
        "num_iterations = int(input(\"Enter the number of iterations : \"))\n",
        "\n",
        "x_min, y_min, min_value = gradient_descent_2d(f_str, initial_x, initial_y, learning_rate, num_iterations)\n",
        "\n",
        "print(f\"Minimum value of g(x, y) is {min_value} at x = {x_min}, y = {y_min}.\")"
      ],
      "metadata": {
        "id": "MrdT_T6AN8i1",
        "colab": {
          "base_uri": "https://localhost:8080/"
        },
        "outputId": "bf4633e0-4b8e-4221-8498-89c3c0121a69"
      },
      "execution_count": null,
      "outputs": [
        {
          "output_type": "stream",
          "name": "stdout",
          "text": [
            "Enter the initial value of x : 1\n",
            "Enter the initial value of y : 1\n",
            "Enter the learning rate : 0.01\n",
            "Enter the number of iterations : 150\n",
            "Minimum value of g(x, y) is 10.4877296623691 at x = 0.0000931489663391464, y = 2.32743196298675.\n"
          ]
        }
      ]
    },
    {
      "cell_type": "markdown",
      "source": [
        "# Questions 3"
      ],
      "metadata": {
        "id": "-AizdbY__7kS"
      }
    },
    {
      "cell_type": "markdown",
      "source": [
        "Write Python code without using any libraries to find the value of x at which the\n",
        " sigmoid function z(x) shown in equation (3) has minimum value. Consider Gradient Descent\n",
        " Algorithm.\n",
        "\n",
        "z(x) = 1/(1+e^-x)"
      ],
      "metadata": {
        "id": "A_2RFsadAAKK"
      }
    },
    {
      "cell_type": "code",
      "source": [
        "def gradient_descent_sigmoid(initial_x, learning_rate, num_iterations):\n",
        "    x = sp.symbols('x')\n",
        "    function = 1 / (1 + sp.exp(-x))\n",
        "    gradient_fn = sp.diff(function, x)\n",
        "    xi = initial_x\n",
        "    for i in range(num_iterations):\n",
        "        gradient = gradient_fn.subs(x, xi)\n",
        "        xi = xi - learning_rate * gradient\n",
        "        if abs(gradient) < 1e-6:\n",
        "            print(f\"Converged at iteration {i+1}\")\n",
        "            break\n",
        "    return xi.evalf(), function.subs(x, xi).evalf()"
      ],
      "metadata": {
        "id": "o99TiuXtAF_X"
      },
      "execution_count": null,
      "outputs": []
    },
    {
      "cell_type": "code",
      "source": [
        "initial_x = float(input(\"Enter the initial value of x : \"))\n",
        "learning_rate = float(input(\"Enter the learning rate : \"))\n",
        "num_iterations = int(input(\"Enter the number of iterations : \"))\n",
        "\n",
        "x_min, min_value = gradient_descent_sigmoid(initial_x, learning_rate, num_iterations)\n",
        "\n",
        "print(f\"Minimum value of z(x) is {min_value} at x = {x_min}.\")"
      ],
      "metadata": {
        "colab": {
          "base_uri": "https://localhost:8080/"
        },
        "id": "F9yznSp4AJV5",
        "outputId": "949e27c7-8404-4ae6-e610-b65dd32ed67d"
      },
      "execution_count": null,
      "outputs": [
        {
          "output_type": "stream",
          "name": "stdout",
          "text": [
            "Enter the initial value of x : 2\n",
            "Enter the learning rate : 0.01\n",
            "Enter the number of iterations : 150\n",
            "Minimum value of z(x) is 0.862057374914158 at x = 1.83248399021647.\n"
          ]
        }
      ]
    },
    {
      "cell_type": "markdown",
      "source": [
        " Question 4\n",
        "  Write Python code without using any libraries to find the value of optimal values of\n",
        " model parameters M and C such that the model’s Square Error Value shown in equation 4 will\n",
        " be minimum. It means model gives output close to expected output as shown in Figure 1\n",
        "\n",
        " ![Screenshot 2025-01-19 184253.png](data:image/png;base64,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)"
      ],
      "metadata": {
        "id": "Ul_P3eiiA2Gi"
      }
    },
    {
      "cell_type": "code",
      "source": [
        "def gradient_descent_linear_model(inputs, expected_outputs, learning_rate, num_iterations):\n",
        "    M, C = 0, 0\n",
        "    n = len(inputs)\n",
        "    for i in range(num_iterations):\n",
        "        gradient_M = sum(-2 * x * (y - (M * x + C)) for x, y in zip(inputs, expected_outputs)) / n\n",
        "        gradient_C = sum(-2 * (y - (M * x + C)) for x, y in zip(inputs, expected_outputs)) / n\n",
        "        M = M - learning_rate * gradient_M\n",
        "        C = C - learning_rate * gradient_C\n",
        "        if abs(gradient_M) < 1e-6 and abs(gradient_C) < 1e-6:\n",
        "            print(f\"Converged at iteration {i+1}\")\n",
        "            break\n",
        "\n",
        "    return M, C"
      ],
      "metadata": {
        "id": "6rVI_X6EA4Oz"
      },
      "execution_count": null,
      "outputs": []
    },
    {
      "cell_type": "code",
      "source": [
        "inputs = [1, 2, 3, 4]\n",
        "expected_outputs = [2, 4, 6, 8]\n",
        "learning_rate = 0.01\n",
        "num_iterations = 1000\n",
        "\n",
        "M_opt, C_opt = gradient_descent_linear_model(inputs, expected_outputs, learning_rate, num_iterations)\n",
        "\n",
        "print(f\"Optimal values are M = {M_opt}, C = {C_opt}.\")"
      ],
      "metadata": {
        "colab": {
          "base_uri": "https://localhost:8080/"
        },
        "id": "cgagJkdVA8eJ",
        "outputId": "522c8fb2-3dc0-413d-c361-c3a478ff0e9b"
      },
      "execution_count": null,
      "outputs": [
        {
          "output_type": "stream",
          "name": "stdout",
          "text": [
            "Optimal values are M = 1.9896587550255742, C = 0.030404521305361965.\n"
          ]
        }
      ]
    }
  ]
}